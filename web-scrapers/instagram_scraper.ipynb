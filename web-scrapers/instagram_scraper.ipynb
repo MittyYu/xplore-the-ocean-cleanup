{
 "cells": [
  {
   "cell_type": "code",
   "execution_count": 7,
   "metadata": {},
   "outputs": [],
   "source": [
    "import instaloader\n",
    "import os\n",
    "import pandas as pd\n",
    "import re\n",
    "from langdetect import detect"
   ]
  },
  {
   "cell_type": "code",
   "execution_count": 8,
   "metadata": {},
   "outputs": [],
   "source": [
    "# !export USER_ID=\"cme291ocean\"\n",
    "# !export USER_PASSWORD=\"CME291cleanup\""
   ]
  },
  {
   "cell_type": "code",
   "execution_count": 9,
   "metadata": {},
   "outputs": [],
   "source": [
    "# user_id = os.environ.get(\"USER_ID\")\n",
    "# user_password = os.environ.get(\"USER_PASSWORD\")\n",
    "# user_id = \"cme291ocean\"\n",
    "# user_password = \"CME291cleanup\""
   ]
  },
  {
   "cell_type": "code",
   "execution_count": 10,
   "metadata": {},
   "outputs": [
    {
     "name": "stdout",
     "output_type": "stream",
     "text": [
      "Logging in as cme291ocean...\n",
      "Loaded session from /Users/mittyu/.config/instaloader/session-cme291ocean.\n"
     ]
    }
   ],
   "source": [
    "# Create an Instaloader object\n",
    "L = instaloader.Instaloader()\n",
    "\n",
    "# Login to Instagram\n",
    "username = \"cme291ocean\"\n",
    "password = \"CME291cleanup\"\n",
    "#L.login(username, password)ß\n",
    "L.context.log(\"Logging in as %s...\" % username)\n",
    "L.load_session_from_file(username)\n",
    "if not L.context.is_logged_in:\n",
    "    L.context.log(\"Session file does not exist yet - Logging in.\")\n",
    "    L.context.log(\"Username: %s\" %username)\n",
    "    L.context.log(\"Password: %s\" %password)\n",
    "    L.context.log(\"User_agent: %s\" %L.context.user_agent)\n",
    "    L.context.log(\"Logged in: %s\" %L.context.is_logged_in)\n",
    "    L.context.log(\"Session file: %s\" %L.context.session_filename)\n",
    "    L.context.log(\"Session file exists: %s\" %L.context.session_file_exists())\n",
    "    L.context.log(\"Session file loaded: %s\" %L.context.session_file_loaded)"
   ]
  },
  {
   "cell_type": "code",
   "execution_count": 11,
   "metadata": {},
   "outputs": [],
   "source": [
    "# L = instaloader.Instaloader()\n",
    "# L.login(user_id, user_password)\n",
    "# TFA_code = \"385169\"\n",
    "# L.two_factor_login()\n",
    "# L.interactive_login(user_id)"
   ]
  },
  {
   "cell_type": "code",
   "execution_count": 12,
   "metadata": {},
   "outputs": [],
   "source": [
    "#!pip install langdetect"
   ]
  },
  {
   "cell_type": "code",
   "execution_count": 13,
   "metadata": {},
   "outputs": [],
   "source": [
    "date_utc = []\n",
    "username = [] # owner_username\n",
    "user_id = [] # owner_id\n",
    "shortcode = [] # shortcode\n",
    "mediaid = []\n",
    "cap_hashtags = [] # caption_hashtags\n",
    "caption = []"
   ]
  },
  {
   "cell_type": "code",
   "execution_count": 14,
   "metadata": {},
   "outputs": [],
   "source": [
    "i = 0\n",
    "hashtag = 'oceancleanup'\n",
    "words_of_interest = {\" lbs\", \" lb\", \" kg\", \" kgs\"}\n",
    "\n",
    "# regex pattern\n",
    "wt_pattern = re.compile('([0-9]+)+\\s*(kgs|kg|lbs|lb|pounds|kilograms)')"
   ]
  },
  {
   "cell_type": "code",
   "execution_count": 15,
   "metadata": {},
   "outputs": [],
   "source": [
    "def is_english(txt):\n",
    "    return detect(txt) == 'en'\n",
    "\n",
    "def extract_hashtags(text):\n",
    "    hashtag_list = []\n",
    "    for word in text.split():\n",
    "        if word[0] == '#':\n",
    "            hashtag_list.append(word[1:])\n",
    "    return hashtag_list"
   ]
  },
  {
   "cell_type": "code",
   "execution_count": 16,
   "metadata": {},
   "outputs": [
    {
     "name": "stdout",
     "output_type": "stream",
     "text": [
      "==error\n",
      "===50\n",
      "=====100\n",
      "===error\n",
      "==150\n",
      "=====200\n",
      "\n",
      "Too many queries in the last time. Need to wait 96 seconds, until 22:06.\n",
      "error\n",
      "=====250\n",
      "=====300\n",
      "=====350\n",
      "error\n",
      "=====400\n"
     ]
    }
   ],
   "source": [
    "for post in L.get_hashtag_posts(hashtag):        \n",
    "    target = post.caption\n",
    "    try:\n",
    "        if wt_pattern.search(str(target)) != None and is_english(str(target[:20])):\n",
    "            # print(f\"Post #: {i}\") #, from location {post.location}\")\n",
    "            caption.append(post.caption)\n",
    "            date_utc.append(post.date_utc)\n",
    "            username.append(post.owner_username)\n",
    "            user_id.append(post.owner_id)\n",
    "            shortcode.append(post.shortcode)\n",
    "            cap_hashtags.append(post.caption_hashtags)\n",
    "            mediaid.append(post.mediaid)\n",
    "            # Location data requires being logged in (as required by Instagram), but also causes errors when trying to pull locations attribute\n",
    "            i += 1\n",
    "            if len(caption) %10 == 0:\n",
    "                print(\"=\", end=\"\")\n",
    "            if len(caption) %50 == 0:\n",
    "                print(len(caption))\n",
    "                df_cap = pd.DataFrame({\"date_utc\":date_utc, \"username\":username, \"user_id\":user_id, \"shortcode\":shortcode, \"mediaid\":mediaid, \"hashtags\": cap_hashtags, \"caption\":caption})\n",
    "                df_cap.to_csv('/Users/mittyu/Desktop/23_Winter/CME291/xplore-the-ocean-cleanup/web-scrapers/ig_cap/cap_'+str(len(caption))+'.csv')\n",
    "                \n",
    "        if len(caption) > 3000:\n",
    "            break\n",
    "    except:\n",
    "        print('error')\n",
    "        pass"
   ]
  },
  {
   "cell_type": "code",
   "execution_count": 17,
   "metadata": {},
   "outputs": [
    {
     "data": {
      "text/plain": [
       "(70, 70, 70, 70, 70, 0, 70)"
      ]
     },
     "execution_count": 17,
     "metadata": {},
     "output_type": "execute_result"
    }
   ],
   "source": [
    "len(date_utc), len(username), len(user_id), len(shortcode), len(mediaid), len(cap_hashtags), len(caption)\n"
   ]
  },
  {
   "cell_type": "code",
   "execution_count": 16,
   "metadata": {},
   "outputs": [
    {
     "ename": "ValueError",
     "evalue": "All arrays must be of the same length",
     "output_type": "error",
     "traceback": [
      "\u001b[0;31m---------------------------------------------------------------------------\u001b[0m",
      "\u001b[0;31mValueError\u001b[0m                                Traceback (most recent call last)",
      "\u001b[1;32m/Users/mittyu/Desktop/23_Winter/CME291/xplore-the-ocean-cleanup/web-scrapers/instagram_scraper.ipynb Cell 11\u001b[0m in \u001b[0;36m1\n\u001b[0;32m----> <a href='vscode-notebook-cell:/Users/mittyu/Desktop/23_Winter/CME291/xplore-the-ocean-cleanup/web-scrapers/instagram_scraper.ipynb#X26sZmlsZQ%3D%3D?line=0'>1</a>\u001b[0m df_cap \u001b[39m=\u001b[39m pd\u001b[39m.\u001b[39;49mDataFrame({\u001b[39m\"\u001b[39;49m\u001b[39mdate_utc\u001b[39;49m\u001b[39m\"\u001b[39;49m:date_utc, \u001b[39m\"\u001b[39;49m\u001b[39musername\u001b[39;49m\u001b[39m\"\u001b[39;49m:username, \u001b[39m\"\u001b[39;49m\u001b[39muser_id\u001b[39;49m\u001b[39m\"\u001b[39;49m:user_id, \u001b[39m\"\u001b[39;49m\u001b[39mshortcode\u001b[39;49m\u001b[39m\"\u001b[39;49m:shortcode, \u001b[39m\"\u001b[39;49m\u001b[39mmediaid\u001b[39;49m\u001b[39m\"\u001b[39;49m:mediaid, \u001b[39m\"\u001b[39;49m\u001b[39mhashtags\u001b[39;49m\u001b[39m\"\u001b[39;49m: cap_hashtags, \u001b[39m\"\u001b[39;49m\u001b[39mcaption\u001b[39;49m\u001b[39m\"\u001b[39;49m:caption})\n\u001b[1;32m      <a href='vscode-notebook-cell:/Users/mittyu/Desktop/23_Winter/CME291/xplore-the-ocean-cleanup/web-scrapers/instagram_scraper.ipynb#X26sZmlsZQ%3D%3D?line=1'>2</a>\u001b[0m df_cap\u001b[39m.\u001b[39mto_csv(\u001b[39m'\u001b[39m\u001b[39m/Users/mittyu/Desktop/23_Winter/CME291/xplore-the-ocean-cleanup/web-scrapers/ig_cap/cap_\u001b[39m\u001b[39m'\u001b[39m\u001b[39m+\u001b[39m\u001b[39mstr\u001b[39m(\u001b[39mlen\u001b[39m(caption))\u001b[39m+\u001b[39m\u001b[39m'\u001b[39m\u001b[39m.csv\u001b[39m\u001b[39m'\u001b[39m)\n",
      "File \u001b[0;32m/usr/local/lib/python3.10/site-packages/pandas/core/frame.py:662\u001b[0m, in \u001b[0;36mDataFrame.__init__\u001b[0;34m(self, data, index, columns, dtype, copy)\u001b[0m\n\u001b[1;32m    656\u001b[0m     mgr \u001b[39m=\u001b[39m \u001b[39mself\u001b[39m\u001b[39m.\u001b[39m_init_mgr(\n\u001b[1;32m    657\u001b[0m         data, axes\u001b[39m=\u001b[39m{\u001b[39m\"\u001b[39m\u001b[39mindex\u001b[39m\u001b[39m\"\u001b[39m: index, \u001b[39m\"\u001b[39m\u001b[39mcolumns\u001b[39m\u001b[39m\"\u001b[39m: columns}, dtype\u001b[39m=\u001b[39mdtype, copy\u001b[39m=\u001b[39mcopy\n\u001b[1;32m    658\u001b[0m     )\n\u001b[1;32m    660\u001b[0m \u001b[39melif\u001b[39;00m \u001b[39misinstance\u001b[39m(data, \u001b[39mdict\u001b[39m):\n\u001b[1;32m    661\u001b[0m     \u001b[39m# GH#38939 de facto copy defaults to False only in non-dict cases\u001b[39;00m\n\u001b[0;32m--> 662\u001b[0m     mgr \u001b[39m=\u001b[39m dict_to_mgr(data, index, columns, dtype\u001b[39m=\u001b[39;49mdtype, copy\u001b[39m=\u001b[39;49mcopy, typ\u001b[39m=\u001b[39;49mmanager)\n\u001b[1;32m    663\u001b[0m \u001b[39melif\u001b[39;00m \u001b[39misinstance\u001b[39m(data, ma\u001b[39m.\u001b[39mMaskedArray):\n\u001b[1;32m    664\u001b[0m     \u001b[39mimport\u001b[39;00m \u001b[39mnumpy\u001b[39;00m\u001b[39m.\u001b[39;00m\u001b[39mma\u001b[39;00m\u001b[39m.\u001b[39;00m\u001b[39mmrecords\u001b[39;00m \u001b[39mas\u001b[39;00m \u001b[39mmrecords\u001b[39;00m\n",
      "File \u001b[0;32m/usr/local/lib/python3.10/site-packages/pandas/core/internals/construction.py:493\u001b[0m, in \u001b[0;36mdict_to_mgr\u001b[0;34m(data, index, columns, dtype, typ, copy)\u001b[0m\n\u001b[1;32m    489\u001b[0m     \u001b[39melse\u001b[39;00m:\n\u001b[1;32m    490\u001b[0m         \u001b[39m# dtype check to exclude e.g. range objects, scalars\u001b[39;00m\n\u001b[1;32m    491\u001b[0m         arrays \u001b[39m=\u001b[39m [x\u001b[39m.\u001b[39mcopy() \u001b[39mif\u001b[39;00m \u001b[39mhasattr\u001b[39m(x, \u001b[39m\"\u001b[39m\u001b[39mdtype\u001b[39m\u001b[39m\"\u001b[39m) \u001b[39melse\u001b[39;00m x \u001b[39mfor\u001b[39;00m x \u001b[39min\u001b[39;00m arrays]\n\u001b[0;32m--> 493\u001b[0m \u001b[39mreturn\u001b[39;00m arrays_to_mgr(arrays, columns, index, dtype\u001b[39m=\u001b[39;49mdtype, typ\u001b[39m=\u001b[39;49mtyp, consolidate\u001b[39m=\u001b[39;49mcopy)\n",
      "File \u001b[0;32m/usr/local/lib/python3.10/site-packages/pandas/core/internals/construction.py:118\u001b[0m, in \u001b[0;36marrays_to_mgr\u001b[0;34m(arrays, columns, index, dtype, verify_integrity, typ, consolidate)\u001b[0m\n\u001b[1;32m    115\u001b[0m \u001b[39mif\u001b[39;00m verify_integrity:\n\u001b[1;32m    116\u001b[0m     \u001b[39m# figure out the index, if necessary\u001b[39;00m\n\u001b[1;32m    117\u001b[0m     \u001b[39mif\u001b[39;00m index \u001b[39mis\u001b[39;00m \u001b[39mNone\u001b[39;00m:\n\u001b[0;32m--> 118\u001b[0m         index \u001b[39m=\u001b[39m _extract_index(arrays)\n\u001b[1;32m    119\u001b[0m     \u001b[39melse\u001b[39;00m:\n\u001b[1;32m    120\u001b[0m         index \u001b[39m=\u001b[39m ensure_index(index)\n",
      "File \u001b[0;32m/usr/local/lib/python3.10/site-packages/pandas/core/internals/construction.py:666\u001b[0m, in \u001b[0;36m_extract_index\u001b[0;34m(data)\u001b[0m\n\u001b[1;32m    664\u001b[0m lengths \u001b[39m=\u001b[39m \u001b[39mlist\u001b[39m(\u001b[39mset\u001b[39m(raw_lengths))\n\u001b[1;32m    665\u001b[0m \u001b[39mif\u001b[39;00m \u001b[39mlen\u001b[39m(lengths) \u001b[39m>\u001b[39m \u001b[39m1\u001b[39m:\n\u001b[0;32m--> 666\u001b[0m     \u001b[39mraise\u001b[39;00m \u001b[39mValueError\u001b[39;00m(\u001b[39m\"\u001b[39m\u001b[39mAll arrays must be of the same length\u001b[39m\u001b[39m\"\u001b[39m)\n\u001b[1;32m    668\u001b[0m \u001b[39mif\u001b[39;00m have_dicts:\n\u001b[1;32m    669\u001b[0m     \u001b[39mraise\u001b[39;00m \u001b[39mValueError\u001b[39;00m(\n\u001b[1;32m    670\u001b[0m         \u001b[39m\"\u001b[39m\u001b[39mMixing dicts with non-Series may lead to ambiguous ordering.\u001b[39m\u001b[39m\"\u001b[39m\n\u001b[1;32m    671\u001b[0m     )\n",
      "\u001b[0;31mValueError\u001b[0m: All arrays must be of the same length"
     ]
    }
   ],
   "source": [
    "df_cap = pd.DataFrame({\"date_utc\":date_utc, \"username\":username, \"user_id\":user_id, \"shortcode\":shortcode, \"mediaid\":mediaid, \"hashtags\": cap_hashtags, \"caption\":caption})\n",
    "df_cap.to_csv('/Users/mittyu/Desktop/23_Winter/CME291/xplore-the-ocean-cleanup/web-scrapers/ig_cap/cap_'+str(len(caption))+'.csv')"
   ]
  },
  {
   "cell_type": "code",
   "execution_count": 30,
   "metadata": {},
   "outputs": [
    {
     "data": {
      "text/plain": [
       "110"
      ]
     },
     "execution_count": 30,
     "metadata": {},
     "output_type": "execute_result"
    }
   ],
   "source": [
    "len(caption)"
   ]
  },
  {
   "cell_type": "code",
   "execution_count": 26,
   "metadata": {},
   "outputs": [
    {
     "name": "stderr",
     "output_type": "stream",
     "text": [
      "JSON Query to explore/tags/oceancleanup/: 404 Not Found [retrying; skip with ^C]\n"
     ]
    },
    {
     "ename": "TypeError",
     "evalue": "argument of type 'NoneType' is not iterable",
     "output_type": "error",
     "traceback": [
      "\u001b[0;31m---------------------------------------------------------------------------\u001b[0m",
      "\u001b[0;31mTypeError\u001b[0m                                 Traceback (most recent call last)",
      "\u001b[1;32m/Users/mittyu/Desktop/23_Winter/CME291/xplore-the-ocean-cleanup/web-scrapers/instagram_scraper.ipynb Cell 9\u001b[0m in \u001b[0;36m4\n\u001b[1;32m      <a href='vscode-notebook-cell:/Users/mittyu/Desktop/23_Winter/CME291/xplore-the-ocean-cleanup/web-scrapers/instagram_scraper.ipynb#X15sZmlsZQ%3D%3D?line=1'>2</a>\u001b[0m \u001b[39mif\u001b[39;00m i \u001b[39m>\u001b[39m \u001b[39m50\u001b[39m:\n\u001b[1;32m      <a href='vscode-notebook-cell:/Users/mittyu/Desktop/23_Winter/CME291/xplore-the-ocean-cleanup/web-scrapers/instagram_scraper.ipynb#X15sZmlsZQ%3D%3D?line=2'>3</a>\u001b[0m     \u001b[39mbreak\u001b[39;00m\n\u001b[0;32m----> <a href='vscode-notebook-cell:/Users/mittyu/Desktop/23_Winter/CME291/xplore-the-ocean-cleanup/web-scrapers/instagram_scraper.ipynb#X15sZmlsZQ%3D%3D?line=3'>4</a>\u001b[0m \u001b[39mif\u001b[39;00m \u001b[39many\u001b[39;49m(x \u001b[39min\u001b[39;49;00m post\u001b[39m.\u001b[39;49mcaption \u001b[39mfor\u001b[39;49;00m x \u001b[39min\u001b[39;49;00m words_of_interest):\n\u001b[1;32m      <a href='vscode-notebook-cell:/Users/mittyu/Desktop/23_Winter/CME291/xplore-the-ocean-cleanup/web-scrapers/instagram_scraper.ipynb#X15sZmlsZQ%3D%3D?line=4'>5</a>\u001b[0m     \u001b[39m# print(f\"Post #: {i}\") #, from location {post.location}\")\u001b[39;00m\n\u001b[1;32m      <a href='vscode-notebook-cell:/Users/mittyu/Desktop/23_Winter/CME291/xplore-the-ocean-cleanup/web-scrapers/instagram_scraper.ipynb#X15sZmlsZQ%3D%3D?line=5'>6</a>\u001b[0m     caption\u001b[39m.\u001b[39mappend(post\u001b[39m.\u001b[39mcaption)\n\u001b[1;32m      <a href='vscode-notebook-cell:/Users/mittyu/Desktop/23_Winter/CME291/xplore-the-ocean-cleanup/web-scrapers/instagram_scraper.ipynb#X15sZmlsZQ%3D%3D?line=6'>7</a>\u001b[0m     \u001b[39m# Location data requires being logged in (as required by Instagram), but also causes errors when trying to pull locations attribute\u001b[39;00m\n",
      "\u001b[1;32m/Users/mittyu/Desktop/23_Winter/CME291/xplore-the-ocean-cleanup/web-scrapers/instagram_scraper.ipynb Cell 9\u001b[0m in \u001b[0;36m4\n\u001b[1;32m      <a href='vscode-notebook-cell:/Users/mittyu/Desktop/23_Winter/CME291/xplore-the-ocean-cleanup/web-scrapers/instagram_scraper.ipynb#X15sZmlsZQ%3D%3D?line=1'>2</a>\u001b[0m \u001b[39mif\u001b[39;00m i \u001b[39m>\u001b[39m \u001b[39m50\u001b[39m:\n\u001b[1;32m      <a href='vscode-notebook-cell:/Users/mittyu/Desktop/23_Winter/CME291/xplore-the-ocean-cleanup/web-scrapers/instagram_scraper.ipynb#X15sZmlsZQ%3D%3D?line=2'>3</a>\u001b[0m     \u001b[39mbreak\u001b[39;00m\n\u001b[0;32m----> <a href='vscode-notebook-cell:/Users/mittyu/Desktop/23_Winter/CME291/xplore-the-ocean-cleanup/web-scrapers/instagram_scraper.ipynb#X15sZmlsZQ%3D%3D?line=3'>4</a>\u001b[0m \u001b[39mif\u001b[39;00m \u001b[39many\u001b[39m(x \u001b[39min\u001b[39;49;00m post\u001b[39m.\u001b[39;49mcaption \u001b[39mfor\u001b[39;00m x \u001b[39min\u001b[39;00m words_of_interest):\n\u001b[1;32m      <a href='vscode-notebook-cell:/Users/mittyu/Desktop/23_Winter/CME291/xplore-the-ocean-cleanup/web-scrapers/instagram_scraper.ipynb#X15sZmlsZQ%3D%3D?line=4'>5</a>\u001b[0m     \u001b[39m# print(f\"Post #: {i}\") #, from location {post.location}\")\u001b[39;00m\n\u001b[1;32m      <a href='vscode-notebook-cell:/Users/mittyu/Desktop/23_Winter/CME291/xplore-the-ocean-cleanup/web-scrapers/instagram_scraper.ipynb#X15sZmlsZQ%3D%3D?line=5'>6</a>\u001b[0m     caption\u001b[39m.\u001b[39mappend(post\u001b[39m.\u001b[39mcaption)\n\u001b[1;32m      <a href='vscode-notebook-cell:/Users/mittyu/Desktop/23_Winter/CME291/xplore-the-ocean-cleanup/web-scrapers/instagram_scraper.ipynb#X15sZmlsZQ%3D%3D?line=6'>7</a>\u001b[0m     \u001b[39m# Location data requires being logged in (as required by Instagram), but also causes errors when trying to pull locations attribute\u001b[39;00m\n",
      "\u001b[0;31mTypeError\u001b[0m: argument of type 'NoneType' is not iterable"
     ]
    }
   ],
   "source": [
    "for post in L.get_hashtag_posts(hashtag):\n",
    "    if i > 50:\n",
    "        break\n",
    "    if any(x in post.caption for x in words_of_interest):\n",
    "        # print(f\"Post #: {i}\") #, from location {post.location}\")\n",
    "        caption.append(post.caption)\n",
    "        # Location data requires being logged in (as required by Instagram), but also causes errors when trying to pull locations attribute\n",
    "        i += 1"
   ]
  },
  {
   "cell_type": "code",
   "execution_count": 23,
   "metadata": {},
   "outputs": [
    {
     "data": {
      "text/plain": [
       "(51, 1)"
      ]
     },
     "execution_count": 23,
     "metadata": {},
     "output_type": "execute_result"
    }
   ],
   "source": [
    "df = pd.DataFrame({'caption':caption})\n",
    "df.shape"
   ]
  },
  {
   "cell_type": "code",
   "execution_count": 22,
   "metadata": {},
   "outputs": [
    {
     "data": {
      "text/plain": [
       "\"Boyan Slat, the 28-year-old Dutch entrepreneur and founder of non-profit environmental organization The Ocean Cleanup, has been working on ways to filter plastic waste out of the Pacific Ocean for nearly 10 years . According to BBC News , he said the journey had been harder than he ever imagined it would be.\\n\\nThe Scale of the Problem \\nThe Ocean Cleanup uses a long , u-shaped barrier, similar to a net, that is pulled through patches of rubbish by boats. It moves slowly to avoid harming marine life. The system has so far cleaned up almost 200,000 kilograms (440,000 lbs) of ocean plastic.\\n\\nThe Ocean Cleanup's Filtering Process \\nResearch conducted by the company in 2021 suggests that about 1,000 of the world 's rivers are the source of 80% of the global ocean plastic pollution. To stop the plastic in rivers, The Ocean Cleanup uses its &quot;Interceptor&quot; solutions, and aims to scale this to all 1,000 heaviest polluting rivers in the world. The tech behind these varies according to factors such as width, depth, flow speed , and debris type of the river in question, assessed using AI -powered cameras.\\n\\nScaling Up Operations \\nBoyan said the fast-flowing nature of rivers can make stopping plastic even more difficult. &quot;In rivers, you really only have one shot at catching the plastic—it just flows by and if you don't catch it, it's guaranteed to enter the ocean,&quot; he said. He added that the rivers are really the arteries that carry trash from land to sea, so when it rains, plastic washes from streets into creeks, into rivers, and then ultimately to the ocean.\\n\\nIntercepting Plastic in Rivers \\nAccording to Boyan, &quot;The planet is pretty big, it turns out,&quot; adding that there are about 1,000 rivers that need to be tackled and five ocean garbage patches. The f…\\n\\nRead more: https://dailytechnews.io/post/165/\\n\\n#environment #ocean #boyanslat #oceancleanup #thescaleoftheproblem #theoceanscleanupfilteringprocess #scalingupoperations #interceptingplasticinrivers #oceanplasticpollution #interceptorsolutions #aipoweredcameras #riverstosea #plasticwasteinpacific\""
      ]
     },
     "execution_count": 22,
     "metadata": {},
     "output_type": "execute_result"
    }
   ],
   "source": [
    "df['caption'].iloc[1]"
   ]
  },
  {
   "cell_type": "code",
   "execution_count": null,
   "metadata": {},
   "outputs": [
    {
     "name": "stdout",
     "output_type": "stream",
     "text": [
      "kg False\n",
      "lbs False\n",
      "lb True\n",
      "kgs False\n"
     ]
    }
   ],
   "source": [
    "for i in words_of_interest:\n",
    "    print(i, i in 'Since our last beach cleanup was quite spontaneously we didn’t bring any paint to leave a stone behind. That’s why we decided to place a painted stone to another place in the same town, at the castle of Himara, because it’s one of the most visited places of Himara. The stone is placed in a way that you can see the sea and the beach from up there. The abstract painting on the stone is inspired by all the beautiful lemon trees which we saw in Albania. 🍋 \\n(Sorry for the bad recording, we are not used to make videos (yet) as you can see ;) ) \\n\\n#himara #himare #himarealbania #albania \\n#wastefree #zerowaste #cleanup #beachcleanup #plastic #plasticfree #plasticocean #ocean #wildlife #lifebelowwater #ecotravel #preventwaste #waste #environmentalprotection  #environment #environmentalissues #saveourplanet #saveourseas #saveouroceans #savetheocean #saveourecosystems #oceanlover #oceanlife #oceanplastic #oceancleanup')"
   ]
  },
  {
   "cell_type": "code",
   "execution_count": null,
   "metadata": {},
   "outputs": [],
   "source": []
  }
 ],
 "metadata": {
  "kernelspec": {
   "display_name": "Python 3.10.7 64-bit",
   "language": "python",
   "name": "python3"
  },
  "language_info": {
   "codemirror_mode": {
    "name": "ipython",
    "version": 3
   },
   "file_extension": ".py",
   "mimetype": "text/x-python",
   "name": "python",
   "nbconvert_exporter": "python",
   "pygments_lexer": "ipython3",
   "version": "3.10.8"
  },
  "orig_nbformat": 4,
  "vscode": {
   "interpreter": {
    "hash": "aee8b7b246df8f9039afb4144a1f6fd8d2ca17a180786b69acc140d282b71a49"
   }
  }
 },
 "nbformat": 4,
 "nbformat_minor": 2
}
