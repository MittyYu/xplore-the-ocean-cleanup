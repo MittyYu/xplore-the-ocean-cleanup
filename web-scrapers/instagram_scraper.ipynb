{
 "cells": [
  {
   "cell_type": "code",
   "execution_count": 7,
   "metadata": {},
   "outputs": [],
   "source": [
    "import instaloader\n",
    "import os\n"
   ]
  },
  {
   "cell_type": "code",
   "execution_count": 15,
   "metadata": {},
   "outputs": [],
   "source": [
    "!export USER_ID=\"josephjamison04@gmail.com\"\n",
    "!export USER_PASSWORD=\"\" #make new account for research team to scrape from"
   ]
  },
  {
   "cell_type": "code",
   "execution_count": 16,
   "metadata": {},
   "outputs": [],
   "source": [
    "user_id = os.environ.get(\"USER_ID\")\n",
    "user_password = os.environ.get(\"USER_PASSWORD\")"
   ]
  },
  {
   "cell_type": "code",
   "execution_count": 18,
   "metadata": {},
   "outputs": [],
   "source": [
    "L = instaloader.Instaloader()\n",
    "# L.login(user_id, user_password)"
   ]
  },
  {
   "cell_type": "code",
   "execution_count": null,
   "metadata": {},
   "outputs": [],
   "source": [
    "i = 0\n",
    "hashtag = 'oceancleanup'\n",
    "words_of_interest = {\"lbs\", \"lb\", \"kg\", \"kgs\"}\n",
    "\n",
    "for post in instaloader.Hashtag.from_name(L.context, hashtag).get_posts():\n",
    "    if i > 4:\n",
    "        break\n",
    "    if any(x in post.caption for x in words_of_interest):\n",
    "        print(post.caption)\n",
    "        # print(post.location)\n",
    "        # Location data requires being logged in (as required by Instagram), returns None if not logged-in\n",
    "        i += 1\n",
    "    "
   ]
  },
  {
   "cell_type": "code",
   "execution_count": null,
   "metadata": {},
   "outputs": [],
   "source": []
  }
 ],
 "metadata": {
  "kernelspec": {
   "display_name": "Python 3.10.7 64-bit",
   "language": "python",
   "name": "python3"
  },
  "language_info": {
   "codemirror_mode": {
    "name": "ipython",
    "version": 3
   },
   "file_extension": ".py",
   "mimetype": "text/x-python",
   "name": "python",
   "nbconvert_exporter": "python",
   "pygments_lexer": "ipython3",
   "version": "3.10.7"
  },
  "orig_nbformat": 4,
  "vscode": {
   "interpreter": {
    "hash": "aee8b7b246df8f9039afb4144a1f6fd8d2ca17a180786b69acc140d282b71a49"
   }
  }
 },
 "nbformat": 4,
 "nbformat_minor": 2
}
