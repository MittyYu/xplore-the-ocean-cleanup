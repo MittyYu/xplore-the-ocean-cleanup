{
 "cells": [
  {
   "cell_type": "code",
   "execution_count": 19,
   "metadata": {},
   "outputs": [],
   "source": [
    "import instaloader\n",
    "import os\n"
   ]
  },
  {
   "cell_type": "code",
   "execution_count": 30,
   "metadata": {},
   "outputs": [],
   "source": [
    "!export USER_ID=\"cme291ocean\"\n",
    "!export USER_PASSWORD=\"CME291cleanup\""
   ]
  },
  {
   "cell_type": "code",
   "execution_count": 38,
   "metadata": {},
   "outputs": [],
   "source": [
    "# user_id = os.environ.get(\"USER_ID\")\n",
    "# user_password = os.environ.get(\"USER_PASSWORD\")\n",
    "user_id = \"cme291ocean\"\n",
    "user_password = \"CME291cleanup\""
   ]
  },
  {
   "cell_type": "code",
   "execution_count": 43,
   "metadata": {},
   "outputs": [
    {
     "ename": "TypeError",
     "evalue": "Instaloader.two_factor_login() missing 1 required positional argument: 'two_factor_code'",
     "output_type": "error",
     "traceback": [
      "\u001b[0;31m---------------------------------------------------------------------------\u001b[0m",
      "\u001b[0;31mTypeError\u001b[0m                                 Traceback (most recent call last)",
      "Cell \u001b[0;32mIn [43], line 4\u001b[0m\n\u001b[1;32m      1\u001b[0m L \u001b[38;5;241m=\u001b[39m instaloader\u001b[38;5;241m.\u001b[39mInstaloader()\n\u001b[1;32m      2\u001b[0m \u001b[38;5;66;03m# L.login(user_id, user_password)\u001b[39;00m\n\u001b[1;32m      3\u001b[0m \u001b[38;5;66;03m# TFA_code = \"385169\"\u001b[39;00m\n\u001b[0;32m----> 4\u001b[0m \u001b[43mL\u001b[49m\u001b[38;5;241;43m.\u001b[39;49m\u001b[43mtwo_factor_login\u001b[49m\u001b[43m(\u001b[49m\u001b[43m)\u001b[49m\n",
      "\u001b[0;31mTypeError\u001b[0m: Instaloader.two_factor_login() missing 1 required positional argument: 'two_factor_code'"
     ]
    }
   ],
   "source": [
    "L = instaloader.Instaloader()\n",
    "L.login(user_id, user_password)\n",
    "# TFA_code = \"385169\"\n",
    "# L.two_factor_login()\n",
    "# L.interactive_login(user_id)"
   ]
  },
  {
   "cell_type": "code",
   "execution_count": 44,
   "metadata": {},
   "outputs": [
    {
     "name": "stdout",
     "output_type": "stream",
     "text": [
      "Post #: 0, from location None\n",
      "This weekend each product sold will help fund the recovery and recycling of 1kg of Ocean-bound plastic with Plastic Bank. \n",
      "\n",
      "The less single use plastic in the world = a lot less plastic dumped in the ocean. \n",
      "\n",
      "No code needed. Automatically calculated after checkout. \n",
      "\n",
      "Looking great whilst looking after the planet 🌎 \n",
      "\n",
      "Link in Bio ♻️\n",
      "\n",
      "MANYMOODS.CO.UK\n",
      "\n",
      "#slowfashionbrand #sustainablefashion #organic #plasticfree #plasticfreeoceans #plasticfreeliving #plasticfreeforthesea #plasticfreelife #plasticfreepackaging #oceanbound #oceancleanup #plasticbank #plasticbankpartner #zeroplastic #zeroplasticwaste #oceanlife #oceanlover #tshirts #hoodies #jumpers #sweaters #vesttop #artprints #totebags #jigsawpuzzles #manymoods\n",
      "Post #: 1, from location None\n",
      "New volunteer cleanup opportunity! 🌊\n",
      "\n",
      "You can help clean up Seal Beach National Wildlife Reserve!\n",
      "\n",
      "When: Sunday, January 22nd from 1pm to 4pm.\n",
      "\n",
      "Because of all the rain in California recently, there’s a lot of plastics heading out to sea via our inland waterways.\n",
      "\n",
      "Seal Beach National Wildlife Reserve could use our help! It’s a mess as you can see from our photo.\n",
      "\n",
      "If you’d like be part of improving the habitat AND ensuring that deluge of debris doesn’t reach the ocean – please send us an email and we’ll let you know the details.\n",
      "\n",
      "Email at: volunteer@oceandefenders.org\n",
      "\n",
      "Note: We may have to cancel if the rains are going to hinder our efforts, so be sure to include your phone number in case we have to cancel at the last minute.\n",
      "\n",
      "#oceandefenders #debrisfreesea #california #sealbeach #oceancleanup #volunteer #volunteeropportunity #marineconservation #oceanconservation\n",
      "Post #: 2, from location None\n",
      "imagine all of this trash collected in one hour from a tiny portion of our beach\n",
      "#volunteerappreciation \n",
      "\n",
      ".\n",
      ".\n",
      ".\n",
      "#lbcleanup #longbeachny #citybythesea  #volunteer #makeadifference #lbny #cleanup #longbeach #longislandlife #11561 #lbny11561 #nassaucounty #pointlookoutny #coastalcleanup #oceanconservation #beachvibes #longislandny #longisland #lbnynotcalifornia #sunsets #longbeachnynotcalifornia #oceancleanup #oceanlovers #beachcleanup #atlanticbeachny #discoverlongisland #longislandbeaches\n",
      "Post #: 3, from location None\n",
      "Did you know the Dune x 4ocean recovered over 16,000 lbs of ocean plastic?! 🥳♻️♻\n",
      "\n",
      "You can help the 4ocean team pull more plastic by personalizing your Dune with 4ocean-certified recovered ocean plastic or by shopping our exclusive collection!🌊\n",
      "\n",
      "link in bio✨\n",
      "Post #: 4, from location None\n",
      "The reason why the back is like it is is not just for staying put in the surf and to fit like a sports bra, but the design depicts a fishing net reaching down to the sea floor to gather fish. And that is what these products are made from - discarded fishing nets! Known as ghost nets, these nets are cut from the main line and they end up floating and sinking imprisoning fish and sea mammals sending them to a slow death. So each purchase from you supports these fabrics rather than the more environmentally destructive counterpart! Help save our seas by choosing brands that use these fabrics! 🐋🦈🦭🐚🌊\n",
      ".\n",
      "@gabriellazagni 📷\n",
      ".\n",
      "#swimweardesign #swimwearbrand #surfbikini #activebikini #recycledfabric #recycledfishingnets #fallbaydesigns #recycledmaterials #reducereuserecycle♻️ #surfwear #surfbrand #womenwhosurf #womeninbusiness #supportlocalbusiness #supportsmall #supportsmallwithstace #ghostnets #surfersagainstplastic #surfersagainstsewage #saveourseas #oceancleanup #nobluenogreen #surf #swell #surfer #surftrip\n",
      "Post #: 5, from location None\n",
      "Just this weekend we hosted our first cleanup of 2023 ♻️!!!! We went to a nearby Island off of Sadiyaat Beach and collected tons of items ranging from plastic cups and bags, metal grates, humongous ropes, and even various alcohol bottles. After calculating the weight we collected 116kg’s of trash in just under 45 minutes. If you want to join us on future cleanups to help save our oceans please DM us here on Instagram! \n",
      "\n",
      "Special shout out to @tadweer_cwm and @beeahgroup for supporting our efforts \n",
      "\n",
      "#beachcleanup #saveouroceans #savetheoceans #oceanconservation #volunteer #conservation #beachlife #communityevent #saveourplanet #litter #beachtrash #cleanoceans #oceancleanup #environmentaleducation #padiaware #volunteersmakeadifference #healthybeaches #citybythesea #oceanlovers #coastalcleanup #wastetovalue #inabudhabi #uae #abudhabi #sadiyaatbeach #almaharadivingcenter #tadweer #beeah #AbuDhabi #missiontozero\n",
      "Post #: 6, from location None\n",
      "🌊¡Seguimos sumando esfuerzos para tener un planeta mejor!  El apoyo de personas y empresas como @imaginers_app es fundamental para poder seguir desarrollando nuestro propósito de lograr unos océanos más limpios. Seguimos trabajando por nuestro objetivo a corto plazo de retirar 1M de kg de residuos marinos.\n",
      "\n",
      "Gracias a esta colaboración con @imaginers_app , no solo hemos dado un paso en este propósito sino también estamos generando un impacto intangible en los océanos. \n",
      "Hemos recolectado +20.000 kg de plástico marino a su nombre y parte de ellos han sido revalorizados en estas mesas para el ImaginCafé de Barcelona ☕️\n",
      "Este es solo el principio de una gran alianza que traerá consigo muchos más grandes proyectos 🙌 \n",
      "Si aún no has visto el documental que estrenamos juntos hace poco corre a verlo para conocer mejor nuestro sistema de trabajo y cómo quedó el ImaginCafé de Barcelona. \n",
      "\n",
      "¿Qué os parece esta colaboración? ¿Os gustaría ver más ImaginCafé como este en otras ciudades? 🧐\n",
      "\n",
      "#ImaginCafé #imaginbank #gravitywave #plasticfreeocean#mediterráneo  #economíacircular #plasticomarino #marinlitter #oceancleanup #redesdepesca #redesfantasma #ghostnets\n"
     ]
    }
   ],
   "source": [
    "i = 0\n",
    "hashtag = 'oceancleanup'\n",
    "words_of_interest = {\"lbs\", \"lb\", \"kg\", \"kgs\"}\n",
    "\n",
    "for post in instaloader.Hashtag.from_name(L.context, hashtag).get_posts():\n",
    "    if i > 6:\n",
    "        break\n",
    "    if any(x in post.caption for x in words_of_interest):\n",
    "        print(f\"Post #: {i}, from location {post.location}\")\n",
    "        print(post.caption)\n",
    "        # Location data requires being logged in (as required by Instagram), returns None if not logged-in\n",
    "        i += 1\n",
    "    "
   ]
  },
  {
   "cell_type": "code",
   "execution_count": null,
   "metadata": {},
   "outputs": [],
   "source": []
  }
 ],
 "metadata": {
  "kernelspec": {
   "display_name": "Python 3.10.7 64-bit",
   "language": "python",
   "name": "python3"
  },
  "language_info": {
   "codemirror_mode": {
    "name": "ipython",
    "version": 3
   },
   "file_extension": ".py",
   "mimetype": "text/x-python",
   "name": "python",
   "nbconvert_exporter": "python",
   "pygments_lexer": "ipython3",
   "version": "3.10.7"
  },
  "orig_nbformat": 4,
  "vscode": {
   "interpreter": {
    "hash": "aee8b7b246df8f9039afb4144a1f6fd8d2ca17a180786b69acc140d282b71a49"
   }
  }
 },
 "nbformat": 4,
 "nbformat_minor": 2
}
